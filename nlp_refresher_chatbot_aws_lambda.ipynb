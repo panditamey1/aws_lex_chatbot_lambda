{
  "nbformat": 4,
  "nbformat_minor": 0,
  "metadata": {
    "colab": {
      "provenance": [],
      "authorship_tag": "ABX9TyOngm4polWXehzSrtD3H8n1",
      "include_colab_link": true
    },
    "kernelspec": {
      "name": "python3",
      "display_name": "Python 3"
    },
    "language_info": {
      "name": "python"
    }
  },
  "cells": [
    {
      "cell_type": "markdown",
      "metadata": {
        "id": "view-in-github",
        "colab_type": "text"
      },
      "source": [
        "<a href=\"https://colab.research.google.com/github/panditamey1/aws_lex_chatbot_lambda/blob/main/nlp_refresher_chatbot_aws_lambda.ipynb\" target=\"_parent\"><img src=\"https://colab.research.google.com/assets/colab-badge.svg\" alt=\"Open In Colab\"/></a>"
      ]
    },
    {
      "cell_type": "code",
      "execution_count": 1,
      "metadata": {
        "colab": {
          "base_uri": "https://localhost:8080/"
        },
        "id": "gUtGNq4USpLU",
        "outputId": "759a7d46-0510-4e91-f6d3-ee8784ba7244"
      },
      "outputs": [
        {
          "output_type": "stream",
          "name": "stdout",
          "text": [
            "Looking in indexes: https://pypi.org/simple, https://us-python.pkg.dev/colab-wheels/public/simple/\n",
            "Collecting boto3\n",
            "  Downloading boto3-1.26.15-py3-none-any.whl (132 kB)\n",
            "\u001b[K     |████████████████████████████████| 132 kB 28.2 MB/s \n",
            "\u001b[?25hCollecting jmespath<2.0.0,>=0.7.1\n",
            "  Downloading jmespath-1.0.1-py3-none-any.whl (20 kB)\n",
            "Collecting s3transfer<0.7.0,>=0.6.0\n",
            "  Downloading s3transfer-0.6.0-py3-none-any.whl (79 kB)\n",
            "\u001b[K     |████████████████████████████████| 79 kB 8.9 MB/s \n",
            "\u001b[?25hCollecting botocore<1.30.0,>=1.29.15\n",
            "  Downloading botocore-1.29.15-py3-none-any.whl (9.9 MB)\n",
            "\u001b[K     |████████████████████████████████| 9.9 MB 64.7 MB/s \n",
            "\u001b[?25hRequirement already satisfied: python-dateutil<3.0.0,>=2.1 in /usr/local/lib/python3.7/dist-packages (from botocore<1.30.0,>=1.29.15->boto3) (2.8.2)\n",
            "Collecting urllib3<1.27,>=1.25.4\n",
            "  Downloading urllib3-1.26.12-py2.py3-none-any.whl (140 kB)\n",
            "\u001b[K     |████████████████████████████████| 140 kB 66.4 MB/s \n",
            "\u001b[?25hRequirement already satisfied: six>=1.5 in /usr/local/lib/python3.7/dist-packages (from python-dateutil<3.0.0,>=2.1->botocore<1.30.0,>=1.29.15->boto3) (1.15.0)\n",
            "Installing collected packages: urllib3, jmespath, botocore, s3transfer, boto3\n",
            "  Attempting uninstall: urllib3\n",
            "    Found existing installation: urllib3 1.24.3\n",
            "    Uninstalling urllib3-1.24.3:\n",
            "      Successfully uninstalled urllib3-1.24.3\n",
            "\u001b[31mERROR: pip's dependency resolver does not currently take into account all the packages that are installed. This behaviour is the source of the following dependency conflicts.\n",
            "requests 2.23.0 requires urllib3!=1.25.0,!=1.25.1,<1.26,>=1.21.1, but you have urllib3 1.26.12 which is incompatible.\u001b[0m\n",
            "Successfully installed boto3-1.26.15 botocore-1.29.15 jmespath-1.0.1 s3transfer-0.6.0 urllib3-1.26.12\n"
          ]
        }
      ],
      "source": [
        "!pip install boto3\n"
      ]
    },
    {
      "cell_type": "code",
      "source": [
        "import boto3"
      ],
      "metadata": {
        "id": "4l6sPXrkfOAa"
      },
      "execution_count": 2,
      "outputs": []
    },
    {
      "cell_type": "code",
      "source": [
        "client = boto3.client('lexv2-runtime',region_name='us-east-1',aws_access_key_id='#########',aws_secret_access_key='##############')\n",
        "client\n"
      ],
      "metadata": {
        "colab": {
          "base_uri": "https://localhost:8080/"
        },
        "id": "zBE3eM-efSLs",
        "outputId": "afc21876-b397-48f3-8839-be4cff88c53a"
      },
      "execution_count": 3,
      "outputs": [
        {
          "output_type": "execute_result",
          "data": {
            "text/plain": [
              "<botocore.client.LexRuntimeV2 at 0x7f2d139c8590>"
            ]
          },
          "metadata": {},
          "execution_count": 3
        }
      ]
    },
    {
      "cell_type": "code",
      "source": [
        "# https://docs.aws.amazon.com/lexv2/latest/dg/how-languages.html\n",
        "\n",
        "botId = \"Q3DQCCTFKW\"\n",
        "botAliasId = \"UE5G68FD9R\"\n",
        "localeId = \"en_US\"\n",
        "sessionId = \"100\""
      ],
      "metadata": {
        "id": "FuX67CQ0nNwY"
      },
      "execution_count": 4,
      "outputs": []
    },
    {
      "cell_type": "code",
      "source": [
        "response = client.recognize_text(\n",
        "    botId=botId,\n",
        "    botAliasId=botAliasId,\n",
        "    localeId=localeId,\n",
        "    sessionId=sessionId,\n",
        "    text='Book hotel')\n",
        "response"
      ],
      "metadata": {
        "colab": {
          "base_uri": "https://localhost:8080/"
        },
        "id": "CMAuuJsCoaX4",
        "outputId": "e7f35b10-ac57-4669-e7d5-fb800c699ec1"
      },
      "execution_count": 5,
      "outputs": [
        {
          "output_type": "execute_result",
          "data": {
            "text/plain": [
              "{'ResponseMetadata': {'RequestId': 'd5335e5a-c2a8-41a9-acaa-26d162f3c676',\n",
              "  'HTTPStatusCode': 200,\n",
              "  'HTTPHeaders': {'x-amzn-requestid': 'd5335e5a-c2a8-41a9-acaa-26d162f3c676',\n",
              "   'strict-transport-security': 'max-age=31536000; includeSubDomains',\n",
              "   'x-content-type-options': 'nosniff',\n",
              "   'date': 'Wed, 23 Nov 2022 17:55:49 GMT',\n",
              "   'content-type': 'application/json',\n",
              "   'content-length': '808'},\n",
              "  'RetryAttempts': 0},\n",
              " 'messages': [{'content': 'Okay, let me help you with that',\n",
              "   'contentType': 'PlainText'},\n",
              "  {'content': 'In which country you want to stay?',\n",
              "   'contentType': 'PlainText'}],\n",
              " 'sessionState': {'dialogAction': {'type': 'ElicitSlot',\n",
              "   'slotToElicit': 'Country'},\n",
              "  'intent': {'name': 'NewIntent',\n",
              "   'slots': {'CheckInDate': None,\n",
              "    'City': None,\n",
              "    'Country': None,\n",
              "    'Roomtype': None,\n",
              "    'hotel_type': None,\n",
              "    'nights': None},\n",
              "   'state': 'InProgress',\n",
              "   'confirmationState': 'None'},\n",
              "  'sessionAttributes': {},\n",
              "  'originatingRequestId': 'd5335e5a-c2a8-41a9-acaa-26d162f3c676'},\n",
              " 'interpretations': [{'nluConfidence': {'score': 0.94},\n",
              "   'intent': {'name': 'NewIntent',\n",
              "    'slots': {'CheckInDate': None,\n",
              "     'City': None,\n",
              "     'Country': None,\n",
              "     'Roomtype': None,\n",
              "     'hotel_type': None,\n",
              "     'nights': None},\n",
              "    'state': 'InProgress',\n",
              "    'confirmationState': 'None'}},\n",
              "  {'intent': {'name': 'FallbackIntent', 'slots': {}}}],\n",
              " 'sessionId': '100'}"
            ]
          },
          "metadata": {},
          "execution_count": 5
        }
      ]
    },
    {
      "cell_type": "code",
      "source": [
        "print(\"Intent:\",response['sessionState']['intent']['name'])\n",
        "print(\"Next Action:\",response['sessionState']['dialogAction']['type'])\n",
        "print(\"Next Slot:\",response['sessionState']['dialogAction']['slotToElicit'])\n",
        "print(\"Prompt or Msg:\",response['messages'][0]['content'])"
      ],
      "metadata": {
        "colab": {
          "base_uri": "https://localhost:8080/"
        },
        "id": "cp_D_yrMobJY",
        "outputId": "a61e25d9-d465-4e8b-9e24-6d21deb3c3e3"
      },
      "execution_count": 6,
      "outputs": [
        {
          "output_type": "stream",
          "name": "stdout",
          "text": [
            "Intent: NewIntent\n",
            "Next Action: ElicitSlot\n",
            "Next Slot: Country\n",
            "Prompt or Msg: Okay, let me help you with that\n"
          ]
        }
      ]
    },
    {
      "cell_type": "code",
      "source": [
        "response = client.recognize_text(\n",
        "    botId=botId,\n",
        "    botAliasId=botAliasId,\n",
        "    localeId=localeId,\n",
        "    sessionId=sessionId,\n",
        "    text='Mumbai')\n",
        "print(\"Intent:\",response['sessionState']['intent']['name'])\n",
        "print(\"Next Action:\",response['sessionState']['dialogAction']['type'])\n",
        "print(\"Next Slot:\",response['sessionState']['dialogAction']['slotToElicit'])\n",
        "print(\"Prompt or Msg:\",response['messages'][0]['content'])"
      ],
      "metadata": {
        "colab": {
          "base_uri": "https://localhost:8080/"
        },
        "id": "IvLw_rldoj8k",
        "outputId": "3cd66a25-18b5-4996-9f96-4f17268af286"
      },
      "execution_count": 7,
      "outputs": [
        {
          "output_type": "stream",
          "name": "stdout",
          "text": [
            "Intent: NewIntent\n",
            "Next Action: ElicitSlot\n",
            "Next Slot: City\n",
            "Prompt or Msg: In which city do you want to book the hotel?\n"
          ]
        }
      ]
    },
    {
      "cell_type": "code",
      "source": [
        "response = client.recognize_text(\n",
        "    botId=botId,\n",
        "    botAliasId=botAliasId,\n",
        "    localeId=localeId,\n",
        "    sessionId=sessionId,\n",
        "    text='25-08-2022')\n",
        "print(\"Intent:\",response['sessionState']['intent']['name'])\n",
        "print(\"Next Action:\",response['sessionState']['dialogAction']['type'])\n",
        "print(\"Next Slot:\",response['sessionState']['dialogAction']['slotToElicit'])\n",
        "print(\"Prompt or Msg:\",response['messages'][0]['content'])"
      ],
      "metadata": {
        "colab": {
          "base_uri": "https://localhost:8080/"
        },
        "id": "mcdtqLv7onXt",
        "outputId": "f041ca5e-6f95-4c7b-8883-90fc6ed80dd9"
      },
      "execution_count": 8,
      "outputs": [
        {
          "output_type": "stream",
          "name": "stdout",
          "text": [
            "Intent: NewIntent\n",
            "Next Action: ElicitSlot\n",
            "Next Slot: Country\n",
            "Prompt or Msg: In which country you want to stay?\n"
          ]
        }
      ]
    },
    {
      "cell_type": "code",
      "source": [
        "response = client.recognize_text(\n",
        "    botId=botId,\n",
        "    botAliasId=botAliasId,\n",
        "    localeId=localeId,\n",
        "    sessionId=sessionId,\n",
        "    text='3')\n",
        "print(\"Intent:\",response['sessionState']['intent']['name'])\n",
        "print(\"Next Action:\",response['sessionState']['dialogAction']['type'])\n",
        "print(\"Next Slot:\",response['sessionState']['dialogAction']['slotToElicit'])\n",
        "print(\"Prompt or Msg:\",response['messages'][0]['content'])"
      ],
      "metadata": {
        "colab": {
          "base_uri": "https://localhost:8080/"
        },
        "id": "9rQOxTKzozP5",
        "outputId": "c47ac944-3273-4f9d-eca7-126d3f7ea10e"
      },
      "execution_count": 9,
      "outputs": [
        {
          "output_type": "stream",
          "name": "stdout",
          "text": [
            "Intent: NewIntent\n",
            "Next Action: ElicitSlot\n",
            "Next Slot: City\n",
            "Prompt or Msg: In which city do you want to book the hotel?\n"
          ]
        }
      ]
    },
    {
      "cell_type": "code",
      "source": [
        "response = client.recognize_text(\n",
        "    botId=botId,\n",
        "    botAliasId=botAliasId,\n",
        "    localeId=localeId,\n",
        "    sessionId=sessionId,\n",
        "    text='Mumbai')\n",
        "response"
      ],
      "metadata": {
        "colab": {
          "base_uri": "https://localhost:8080/"
        },
        "id": "CHDwn6K7o2Z6",
        "outputId": "92e45210-8c86-4777-ec22-df8710e01e10"
      },
      "execution_count": 10,
      "outputs": [
        {
          "output_type": "execute_result",
          "data": {
            "text/plain": [
              "{'ResponseMetadata': {'RequestId': '23165286-df6d-4f4d-9b34-8fb934eb9832',\n",
              "  'HTTPStatusCode': 200,\n",
              "  'HTTPHeaders': {'x-amzn-requestid': '23165286-df6d-4f4d-9b34-8fb934eb9832',\n",
              "   'strict-transport-security': 'max-age=31536000; includeSubDomains',\n",
              "   'x-content-type-options': 'nosniff',\n",
              "   'date': 'Wed, 23 Nov 2022 17:57:58 GMT',\n",
              "   'content-type': 'application/json',\n",
              "   'content-length': '911'},\n",
              "  'RetryAttempts': 0},\n",
              " 'messages': [{'content': 'In which country you want to stay?',\n",
              "   'contentType': 'PlainText'}],\n",
              " 'sessionState': {'dialogAction': {'type': 'ElicitSlot',\n",
              "   'slotToElicit': 'Country'},\n",
              "  'intent': {'name': 'NewIntent',\n",
              "   'slots': {'CheckInDate': None,\n",
              "    'City': {'value': {'originalValue': 'Mumbai',\n",
              "      'interpretedValue': 'Mumbai',\n",
              "      'resolvedValues': ['mumbai']}},\n",
              "    'Country': None,\n",
              "    'Roomtype': None,\n",
              "    'hotel_type': None,\n",
              "    'nights': None},\n",
              "   'state': 'InProgress',\n",
              "   'confirmationState': 'None'},\n",
              "  'sessionAttributes': {},\n",
              "  'originatingRequestId': 'd5335e5a-c2a8-41a9-acaa-26d162f3c676'},\n",
              " 'interpretations': [{'nluConfidence': {'score': 1.0},\n",
              "   'intent': {'name': 'NewIntent',\n",
              "    'slots': {'CheckInDate': None,\n",
              "     'City': {'value': {'originalValue': 'Mumbai',\n",
              "       'interpretedValue': 'Mumbai',\n",
              "       'resolvedValues': ['mumbai']}},\n",
              "     'Country': None,\n",
              "     'Roomtype': None,\n",
              "     'hotel_type': None,\n",
              "     'nights': None},\n",
              "    'state': 'InProgress',\n",
              "    'confirmationState': 'None'}},\n",
              "  {'intent': {'name': 'FallbackIntent', 'slots': {}}}],\n",
              " 'sessionId': '100'}"
            ]
          },
          "metadata": {},
          "execution_count": 10
        }
      ]
    },
    {
      "cell_type": "code",
      "source": [],
      "metadata": {
        "id": "PtMzaKEso6eI"
      },
      "execution_count": null,
      "outputs": []
    }
  ]
}
